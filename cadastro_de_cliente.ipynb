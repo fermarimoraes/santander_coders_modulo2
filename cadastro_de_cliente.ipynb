{
 "cells": [
  {
   "cell_type": "code",
   "execution_count": 3,
   "metadata": {},
   "outputs": [],
   "source": [
    "\n",
    "clientes  = {}\n",
    "class Cliente:\n",
    "    def __init__(self, cpf, nome):\n",
    "        self.cpf = cpf\n",
    "        self.nome = nome\n",
    "        \n",
    "    \n",
    "def cadastrar_cliente():\n",
    "    cpf = input('Digite seu cpf')\n",
    "    nome = input('Digite seu nome')\n",
    "    novo_cliente = Cliente(cpf, nome)\n",
    "    clientes[cpf] = novo_cliente   \n",
    "\n",
    "\n",
    "   \n"
   ]
  },
  {
   "cell_type": "code",
   "execution_count": 4,
   "metadata": {},
   "outputs": [],
   "source": [
    "cadastrar_cliente()\n"
   ]
  },
  {
   "cell_type": "code",
   "execution_count": 5,
   "metadata": {},
   "outputs": [
    {
     "name": "stdout",
     "output_type": "stream",
     "text": [
      "{'cpf': '12312312312', 'nome': 'miguel'}\n"
     ]
    }
   ],
   "source": [
    "for cpf in clientes:\n",
    "    print(clientes[cpf].__dict__)"
   ]
  },
  {
   "cell_type": "code",
   "execution_count": 28,
   "metadata": {},
   "outputs": [],
   "source": [
    "medicamentos  = {}\n",
    "\n",
    "class Medicamentos_Quimioterapicos:\n",
    "    def __init__(self, nome, principal_composto, laboratorio, descricao):\n",
    "        self.nome = nome\n",
    "        self.principal_composto = principal_composto\n",
    "        self.laboratorio = laboratorio\n",
    "        self.descricao = descricao\n",
    "        self.necessita_receita = 'sim'\n",
    "\n",
    "class Medicamentos_Fitoterapicos:\n",
    "    def __init__(self, nome, principal_composto, laboratorio, descricao):\n",
    "        self.nome = nome\n",
    "        self.principal_composto = principal_composto\n",
    "        self.laboratorio = laboratorio\n",
    "        self.descricao = descricao\n",
    "    \n",
    "def cadastrar_medicamento():\n",
    "    tipo_de_medicamento = input('Digite se o medicamento é quimioterapicos ou fitoterapicos')\n",
    "    nome = input('Digite o nome do remedio')\n",
    "    principal_composto = input('Digite o principal composto')\n",
    "    laboratorio = input('Digite o nome do laboratorio')\n",
    "    descricao = input('Digite a descricao do medicamento')\n",
    "    if tipo_de_medicamento == 'quimioterapicos':\n",
    "        print('esse medicamento precisa de receita medica')\n",
    "        novo_medicamento = Medicamentos_Quimioterapicos(nome, principal_composto, laboratorio, descricao)\n",
    "    else:\n",
    "        novo_medicamento = Medicamentos_Fitoterapicos(nome, principal_composto, laboratorio, descricao)\n",
    "    medicamentos[nome] = novo_medicamento "
   ]
  },
  {
   "cell_type": "code",
   "execution_count": 30,
   "metadata": {},
   "outputs": [],
   "source": [
    "cadastrar_medicamento()"
   ]
  },
  {
   "cell_type": "code",
   "execution_count": 31,
   "metadata": {},
   "outputs": [
    {
     "name": "stdout",
     "output_type": "stream",
     "text": [
      "{'nome': 'anador', 'principal_composto': 'dipirona', 'laboratorio': 'neo', 'descricao': 'medicamento para dor', 'necessita_receita': 'sim'}\n",
      "{'nome': 'dipirona', 'principal_composto': 'dipirona', 'laboratorio': 'neo', 'descricao': 'remedio para dor'}\n"
     ]
    }
   ],
   "source": [
    "for medicamento in medicamentos:\n",
    "    print(medicamentos[medicamento].__dict__)"
   ]
  },
  {
   "cell_type": "code",
   "execution_count": 38,
   "metadata": {},
   "outputs": [],
   "source": [
    "laboratorios = {}\n",
    "\n",
    "class Laboratorio:\n",
    "    def __init__(self, nome, endereco, telefone, cidade, estado):\n",
    "        self.nome = nome\n",
    "        self.endereco = endereco\n",
    "        self.telefone = telefone\n",
    "        self.cidade = cidade\n",
    "        self.estado = estado\n",
    "\n",
    "def cadastrar_laboratorio():\n",
    "    nome = input('Digite o nome do laboratorio')\n",
    "    endereco = input('Digite o endereço')\n",
    "    telefone = input('Digite o telefone')\n",
    "    cidade = input('Digite a cidade')\n",
    "    estado = input ('Digite o estado')\n",
    "    novo_laboratorio = Laboratorio(nome, endereco, telefone, cidade, estado)\n",
    "    laboratorios[nome] = novo_laboratorio\n"
   ]
  },
  {
   "cell_type": "code",
   "execution_count": 39,
   "metadata": {},
   "outputs": [],
   "source": [
    "cadastrar_laboratorio()"
   ]
  },
  {
   "cell_type": "code",
   "execution_count": 40,
   "metadata": {},
   "outputs": [
    {
     "name": "stdout",
     "output_type": "stream",
     "text": [
      "{'nome': 'sao luis', 'endereco': 'rua a', 'telefone': '99999999', 'cidade': 'sao paulo', 'estado': 'sp'}\n"
     ]
    }
   ],
   "source": [
    "for laboratorio in laboratorios:\n",
    "    print(laboratorios[laboratorio].__dict__)"
   ]
  },
  {
   "cell_type": "code",
   "execution_count": 44,
   "metadata": {},
   "outputs": [],
   "source": [
    "vendas = []\n",
    "\n",
    "class Venda:\n",
    "    def __init__(self, data, hora, cliente):\n",
    "        self.data = data\n",
    "        self.hora = hora \n",
    "        self.itens = []\n",
    "        self.cliente = cliente\n",
    "        self.valor = 0\n",
    "\n",
    "    def adicionar_produto(self, produto, valor):\n",
    "        self.itens.append(produto)\n",
    "        self.valor += valor\n",
    "        \n",
    "\n",
    "def venda():\n",
    "    data = input('Digite a data da venda')\n",
    "    hora = input('Digite a hora da venda')\n",
    "    cpf = input('Digite o cpf do cliente')\n",
    "    if cpf in clientes:\n",
    "        cliente = clientes[cpf]\n",
    "        nova_venda = Venda(data, hora, cliente)\n",
    "        nome_produto = input('Informe o produto')\n",
    "        if nome_produto in medicamentos:\n",
    "            produto = medicamentos[nome_produto]\n",
    "            valor = float(input('Digite o valor'))\n",
    "            nova_venda.adicionar_produto(produto, valor)\n",
    "        else:\n",
    "            print('Produto nao cadastrado')\n",
    "            \n",
    "        vendas.append(nova_venda)\n",
    "        \n",
    "    else:\n",
    "        print('cliente nao cadastrado')\n",
    "\n",
    "    \n",
    "    "
   ]
  },
  {
   "cell_type": "code",
   "execution_count": 47,
   "metadata": {},
   "outputs": [],
   "source": [
    "venda()"
   ]
  },
  {
   "cell_type": "code",
   "execution_count": 50,
   "metadata": {},
   "outputs": [
    {
     "name": "stdout",
     "output_type": "stream",
     "text": [
      "{'data': '30/04/2023', 'hora': '23:00', 'itens': [], 'cliente': <__main__.Cliente object at 0x1085574d0>, 'valor': 0}\n",
      "{'cpf': '12312312312', 'nome': 'miguel'}\n",
      "{'data': '23/04/2023', 'hora': '12:00', 'itens': [<__main__.Medicamentos_Fitoterapicos object at 0x108029b90>], 'cliente': <__main__.Cliente object at 0x1085574d0>, 'valor': 10.0}\n",
      "{'cpf': '12312312312', 'nome': 'miguel'}\n",
      "{'nome': 'dipirona', 'principal_composto': 'dipirona', 'laboratorio': 'neo', 'descricao': 'remedio para dor'}\n"
     ]
    }
   ],
   "source": [
    "for venda in vendas:\n",
    "    print(venda.__dict__)\n",
    "    print(venda.cliente.__dict__)\n",
    "    for item in venda.itens:\n",
    "        print(item.__dict__)"
   ]
  }
 ],
 "metadata": {
  "kernelspec": {
   "display_name": "Python 3",
   "language": "python",
   "name": "python3"
  },
  "language_info": {
   "codemirror_mode": {
    "name": "ipython",
    "version": 3
   },
   "file_extension": ".py",
   "mimetype": "text/x-python",
   "name": "python",
   "nbconvert_exporter": "python",
   "pygments_lexer": "ipython3",
   "version": "3.11.4"
  },
  "orig_nbformat": 4
 },
 "nbformat": 4,
 "nbformat_minor": 2
}
